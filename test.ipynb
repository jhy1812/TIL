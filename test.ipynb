{
 "cells": [
  {
   "cell_type": "code",
   "execution_count": 1,
   "metadata": {},
   "outputs": [
    {
     "name": "stdout",
     "output_type": "stream",
     "text": [
      "[20, 30, 40]\n",
      "(20, 30, 40)\n"
     ]
    }
   ],
   "source": [
    "def ltmake():\n",
    "    a=[*map(int,input().split(\",\"))]\n",
    "    b=tuple(a)\n",
    "    print(a)\n",
    "    print(b)\n",
    "ltmake()"
   ]
  },
  {
   "cell_type": "code",
   "execution_count": 2,
   "metadata": {},
   "outputs": [
    {
     "name": "stdout",
     "output_type": "stream",
     "text": [
      "[12, 24, 35, 88, 120, 155]\n"
     ]
    }
   ],
   "source": [
    "def delete(a):\n",
    "    lst=list(set(a))\n",
    "    lst.sort()\n",
    "    print(lst)\n",
    "\n",
    "b=[12,24,35,24,88,120,155,88,120,155]\n",
    "delete(b)"
   ]
  },
  {
   "cell_type": "code",
   "execution_count": 3,
   "metadata": {},
   "outputs": [
    {
     "name": "stdout",
     "output_type": "stream",
     "text": [
      "이순신의 전화번호는 010-1111-2222입니다.\n"
     ]
    }
   ],
   "source": [
    "def johoe():\n",
    "    phone_number={'홍길동':'010-1111-1111','이순신':'010-1111-2222','강감찬':'010-1111-3333'}\n",
    "    a=input(\"아래 학생들의 전화번호를 조회할 수 있습니다.\\n홍길동\\n이순신\\n강감찬\\n전화번호를 조회하고자 하는 학생의 이름을 입력하십시오.\\n\")\n",
    "    print(\"{}의 전화번호는 {}입니다.\".format(a, phone_number[a]))\n",
    "johoe()"
   ]
  },
  {
   "cell_type": "code",
   "execution_count": 1,
   "metadata": {},
   "outputs": [],
   "source": [
    "gagu={'TV':'2000000','냉장고':'1500000','책상':'350000','노트북':'1200000','가스레인지':'200000','세탁기':'1000000'}"
   ]
  },
  {
   "cell_type": "code",
   "execution_count": null,
   "metadata": {},
   "outputs": [],
   "source": [
    "lst=[[0 for i in range(3)] for j in range(2)]\n",
    "\n",
    "def input1():\n",
    "    "
   ]
  }
 ],
 "metadata": {
  "kernelspec": {
   "display_name": "Python 3",
   "language": "python",
   "name": "python3"
  },
  "language_info": {
   "codemirror_mode": {
    "name": "ipython",
    "version": 3
   },
   "file_extension": ".py",
   "mimetype": "text/x-python",
   "name": "python",
   "nbconvert_exporter": "python",
   "pygments_lexer": "ipython3",
   "version": "3.11.1"
  },
  "orig_nbformat": 4,
  "vscode": {
   "interpreter": {
    "hash": "a4b9c3995e6b02c0cb23a8602bb58b570a488b86cec8c440a7bf328782ef81d3"
   }
  }
 },
 "nbformat": 4,
 "nbformat_minor": 2
}
